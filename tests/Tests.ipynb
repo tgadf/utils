{
 "cells": [
  {
   "cell_type": "code",
   "execution_count": 1,
   "metadata": {},
   "outputs": [
    {
     "data": {
      "text/html": [
       "<style>.container { width:100% !important; }</style>"
      ],
      "text/plain": [
       "<IPython.core.display.HTML object>"
      ]
     },
     "metadata": {},
     "output_type": "display_data"
    },
    {
     "data": {
      "text/html": [
       "<style>div.output_area{max-height:10000px;overflow:scroll;}</style>"
      ],
      "text/plain": [
       "<IPython.core.display.HTML object>"
      ]
     },
     "metadata": {},
     "output_type": "display_data"
    }
   ],
   "source": [
    "## Basic stuff\n",
    "%load_ext autoreload\n",
    "%autoreload\n",
    "\n",
    "from IPython.core.display import display, HTML\n",
    "display(HTML(\"<style>.container { width:100% !important; }</style>\"))\n",
    "display(HTML(\"\"\"<style>div.output_area{max-height:10000px;overflow:scroll;}</style>\"\"\"))\n",
    "#IPython.Cell.options_default.cm_config.lineNumbers = true;"
   ]
  },
  {
   "cell_type": "code",
   "execution_count": null,
   "metadata": {},
   "outputs": [],
   "source": [
    "!python setup.py install"
   ]
  },
  {
   "cell_type": "markdown",
   "metadata": {},
   "source": [
    "# Package"
   ]
  },
  {
   "cell_type": "code",
   "execution_count": 3,
   "metadata": {},
   "outputs": [],
   "source": [
    "%autoreload\n",
    "from timeutils import Timestat\n",
    "from fileutils import FileInfo, DirInfo\n",
    "from langutils import LangType\n",
    "from apiutils import APIIO\n",
    "from strutils import NormalizeString\n",
    "from listUtils import getFlatList"
   ]
  },
  {
   "cell_type": "markdown",
   "metadata": {},
   "source": [
    "# FS Tests"
   ]
  },
  {
   "cell_type": "code",
   "execution_count": 4,
   "metadata": {},
   "outputs": [],
   "source": [
    "dInfo = DirInfo(\"/Users/tgadfort/Documents/code310/dbdata\")"
   ]
  },
  {
   "cell_type": "code",
   "execution_count": 6,
   "metadata": {},
   "outputs": [
    {
     "data": {
      "text/plain": [
       "True"
      ]
     },
     "execution_count": 6,
     "metadata": {},
     "output_type": "execute_result"
    }
   ],
   "source": [
    "dInfo.exists()"
   ]
  },
  {
   "cell_type": "code",
   "execution_count": null,
   "metadata": {},
   "outputs": [],
   "source": [
    "p.suffix"
   ]
  },
  {
   "cell_type": "code",
   "execution_count": null,
   "metadata": {},
   "outputs": [],
   "source": []
  },
  {
   "cell_type": "code",
   "execution_count": null,
   "metadata": {},
   "outputs": [],
   "source": [
    "from recentFilesUtils import recentFiles\n",
    "rf = recentFiles()\n",
    "files = list(dbIO.getPermModValDir(0).glob())\n",
    "rf.setFiles(files)\n",
    "newFiles2 = rf.getFilesByModTime(\"< 0 Days\", dbIO.data.getDBModValFilename(0).path)"
   ]
  },
  {
   "cell_type": "code",
   "execution_count": null,
   "metadata": {},
   "outputs": [],
   "source": [
    "len(newFiles2)"
   ]
  },
  {
   "cell_type": "code",
   "execution_count": null,
   "metadata": {},
   "outputs": [],
   "source": [
    "newFiles1 = rf.getFilesByRecency(\"> 10 Hours\")\n",
    "len(newFiles1)"
   ]
  },
  {
   "cell_type": "code",
   "execution_count": null,
   "metadata": {},
   "outputs": [],
   "source": [
    "%autoreload\n",
    "from ioUtils import fileIO,htmlIO\n",
    "io = fileIO()\n",
    "bsIO = htmlIO()"
   ]
  },
  {
   "cell_type": "code",
   "execution_count": null,
   "metadata": {},
   "outputs": [],
   "source": [
    "ifile"
   ]
  },
  {
   "cell_type": "code",
   "execution_count": null,
   "metadata": {},
   "outputs": [],
   "source": [
    "bsIO"
   ]
  },
  {
   "cell_type": "code",
   "execution_count": null,
   "metadata": {},
   "outputs": [],
   "source": [
    "retval = io.get(ifile)"
   ]
  },
  {
   "cell_type": "code",
   "execution_count": null,
   "metadata": {},
   "outputs": [],
   "source": [
    "retval"
   ]
  },
  {
   "cell_type": "code",
   "execution_count": null,
   "metadata": {},
   "outputs": [],
   "source": [
    "\n",
    "fileIO().save(idata=open(ifile).read(), ifile=\"dummy.p\")"
   ]
  },
  {
   "cell_type": "code",
   "execution_count": null,
   "metadata": {},
   "outputs": [],
   "source": [
    "html(\"dummy.p\").get()"
   ]
  },
  {
   "cell_type": "code",
   "execution_count": null,
   "metadata": {},
   "outputs": [],
   "source": [
    "from fsUtils import fsInfo\n",
    "from dbIOGate import dbIOGate"
   ]
  },
  {
   "cell_type": "code",
   "execution_count": null,
   "metadata": {},
   "outputs": [],
   "source": [
    "dataDir = fsInfo(\"/Users/tgadfort/discogs/artists-rateyourmusic/data\")"
   ]
  },
  {
   "cell_type": "code",
   "execution_count": null,
   "metadata": {},
   "outputs": [],
   "source": [
    "dbIO = dbIOGate().getDBIO(\"RateYourMusic\")\n",
    "dataDir = dbIO.getPermDataModValDir()"
   ]
  },
  {
   "cell_type": "code",
   "execution_count": null,
   "metadata": {},
   "outputs": [],
   "source": [
    "from pathlib import Path,PosixPath\n",
    "from datetime import datetime\n"
   ]
  },
  {
   "cell_type": "code",
   "execution_count": null,
   "metadata": {},
   "outputs": [],
   "source": [
    "files = dataDir.glob(\"The*.htm*\", lazy=True)\n",
    "tmp = {f: fsStat(f).getModTime() for f in files}\n",
    "#print(type(ifile))\n",
    "##print(fsSize(ifile).get())"
   ]
  },
  {
   "cell_type": "code",
   "execution_count": null,
   "metadata": {},
   "outputs": [],
   "source": [
    "tmp"
   ]
  },
  {
   "cell_type": "code",
   "execution_count": null,
   "metadata": {},
   "outputs": [],
   "source": []
  },
  {
   "cell_type": "code",
   "execution_count": null,
   "metadata": {},
   "outputs": [],
   "source": [
    "%autoreload\n",
    "#from fileInfo import fileInfo, fsInfo\n",
    "from fsUtils import fsInfo\n",
    "fUtil = fsInfo(\"fileInfo.py\")\n",
    "fUtil.join(\"test\").exists()\n",
    "#x = '/Volumes/Piggy/Music/Matched/O/O.A.R'\n",
    "#fInfo = fsInfo(x)"
   ]
  },
  {
   "cell_type": "code",
   "execution_count": null,
   "metadata": {},
   "outputs": [],
   "source": [
    "from ioUtils import fileIO\n",
    "io = fileIO()\n",
    "io.save(idata={}, ifile=\"dummy.p\")\n",
    "io.get(\"dummy.p\")"
   ]
  },
  {
   "cell_type": "code",
   "execution_count": null,
   "metadata": {},
   "outputs": [],
   "source": [
    "from timeUtils import now\n",
    "now().get()\n",
    "#datetime.datetime"
   ]
  },
  {
   "cell_type": "code",
   "execution_count": null,
   "metadata": {},
   "outputs": [],
   "source": [
    "from datetime import date\n",
    "from pandas import to_datetime\n"
   ]
  },
  {
   "cell_type": "code",
   "execution_count": null,
   "metadata": {},
   "outputs": [],
   "source": [
    "tt = termTime(day=\"2/8/2022\", time=\"6am\")\n",
    "tt.isFinished()"
   ]
  },
  {
   "cell_type": "code",
   "execution_count": null,
   "metadata": {},
   "outputs": [],
   "source": [
    "today = date.today()\n",
    "today + timedelta"
   ]
  },
  {
   "cell_type": "code",
   "execution_count": null,
   "metadata": {},
   "outputs": [],
   "source": [
    "from pandas import Timestamp\n",
    "tval = \"8/13/2022--6am\"\n",
    "to_datetime(tval).strftime(\"%m/%d/%Y\")\n",
    "#Timestamp.today()"
   ]
  },
  {
   "cell_type": "code",
   "execution_count": null,
   "metadata": {},
   "outputs": [],
   "source": [
    "from datetime import timedelta"
   ]
  },
  {
   "cell_type": "code",
   "execution_count": null,
   "metadata": {},
   "outputs": [],
   "source": [
    "from pandas import to_datetime"
   ]
  },
  {
   "cell_type": "markdown",
   "metadata": {},
   "source": [
    "# Search Files/Patterns"
   ]
  },
  {
   "cell_type": "code",
   "execution_count": null,
   "metadata": {},
   "outputs": [],
   "source": [
    "!python setup.py install"
   ]
  },
  {
   "cell_type": "code",
   "execution_count": null,
   "metadata": {},
   "outputs": [],
   "source": [
    "from searchUtils import filesFromDir"
   ]
  },
  {
   "cell_type": "code",
   "execution_count": null,
   "metadata": {},
   "outputs": [],
   "source": [
    "%autoreload\n",
    "from datetime import datetime\n",
    "from os.path import getmtime\n",
    "from pandas import Timestamp\n",
    "ifile=\"/Users/tgadfort/dbdiscogs/artists-rateyourmusic-db/7-DB.p\"\n",
    "print(ifile)\n",
    "print(Timestamp(datetime.fromtimestamp(getmtime(ifile))).round('s'))\n",
    "print(\"\")\n",
    "from recentFilesUtils import recentFiles\n",
    "ffd   = filesFromDir(ext=\".p\")\n",
    "files = ffd.getFiles(\"/Users/tgadfort/discogs/artists-rateyourmusic/7\")\n",
    "rf = recentFiles()\n",
    "rf.setFiles(files)\n",
    "newFiles = rf.getFilesByModTime(\"< 0 hours\", ifile, debug=True)\n"
   ]
  },
  {
   "cell_type": "code",
   "execution_count": null,
   "metadata": {},
   "outputs": [],
   "source": [
    "dirVal = \"/Users/tgadfort/Desktop/RateYourMusic\"\n",
    "ffd   = filesFromDir(ext=[\".html\", \".htm\"])\n",
    "files = ffd.getFiles(dirVal)\n",
    "files"
   ]
  },
  {
   "cell_type": "markdown",
   "metadata": {},
   "source": [
    "# OSAScript"
   ]
  },
  {
   "cell_type": "code",
   "execution_count": null,
   "metadata": {},
   "outputs": [],
   "source": [
    "import subprocess\n",
    "\n",
    "def asrun(ascript):\n",
    "    \"Run the given AppleScript and return the standard output and error.\"\n",
    "    osa = subprocess.Popen(['osascript', '-'],\n",
    "                           stdin=subprocess.PIPE,\n",
    "                           stdout=subprocess.PIPE)\n",
    "\n",
    "    return osa.communicate(ascript)[0]"
   ]
  },
  {
   "cell_type": "code",
   "execution_count": null,
   "metadata": {},
   "outputs": [],
   "source": [
    "url = \"https://rateyourmusic.com/artist/musical_youth\"\n",
    "savename = \"/Users/tgadfort/Desktop/RateYourMusic/musical_youth.html\"\n",
    "url = \"https://rateyourmusic.com/artist/gamma\"\n",
    "savename = \"gamma.html\"\n",
    "dtime = 5"
   ]
  },
  {
   "cell_type": "code",
   "execution_count": null,
   "metadata": {},
   "outputs": [],
   "source": [
    "dscript = '''\n",
    "tell application \"Safari\"\n",
    "activate\n",
    "set URL of document 1 to \"{0}\"\n",
    "delay {2}\n",
    "set myString to source of document 1\n",
    "end tell\n",
    "set newFile to POSIX file \"{1}\"\n",
    "open for access newFile with write permission\n",
    "write myString to newFile\n",
    "close access newFile\n",
    "'''.format(url, savename, dtime)"
   ]
  },
  {
   "cell_type": "code",
   "execution_count": null,
   "metadata": {},
   "outputs": [],
   "source": [
    "import osascript\n",
    "\n",
    "code,out,err = osascript.run(dscript)"
   ]
  },
  {
   "cell_type": "code",
   "execution_count": null,
   "metadata": {},
   "outputs": [],
   "source": [
    "content = asrun(dscript)    "
   ]
  },
  {
   "cell_type": "code",
   "execution_count": null,
   "metadata": {},
   "outputs": [],
   "source": []
  },
  {
   "cell_type": "code",
   "execution_count": null,
   "metadata": {},
   "outputs": [],
   "source": []
  },
  {
   "cell_type": "code",
   "execution_count": null,
   "metadata": {},
   "outputs": [],
   "source": []
  }
 ],
 "metadata": {
  "kernelspec": {
   "display_name": "Python 3 (ipykernel)",
   "language": "python",
   "name": "python3"
  },
  "language_info": {
   "codemirror_mode": {
    "name": "ipython",
    "version": 3
   },
   "file_extension": ".py",
   "mimetype": "text/x-python",
   "name": "python",
   "nbconvert_exporter": "python",
   "pygments_lexer": "ipython3",
   "version": "3.9.7"
  },
  "toc": {
   "base_numbering": 1,
   "nav_menu": {},
   "number_sections": true,
   "sideBar": true,
   "skip_h1_title": false,
   "title_cell": "Table of Contents",
   "title_sidebar": "Contents",
   "toc_cell": false,
   "toc_position": {},
   "toc_section_display": true,
   "toc_window_display": false
  }
 },
 "nbformat": 4,
 "nbformat_minor": 2
}
